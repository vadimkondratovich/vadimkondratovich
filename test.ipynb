{
 "cells": [
  {
   "cell_type": "code",
   "execution_count": 1,
   "source": [
    "import psutil\n",
    "print(psutil.disk_io_counters())"
   ],
   "outputs": [
    {
     "output_type": "stream",
     "name": "stdout",
     "text": [
      "sdiskio(read_count=47944, write_count=12921, read_bytes=1597793792, write_bytes=924565504, read_time=560795, write_time=236818, read_merged_count=9298, write_merged_count=33502, busy_time=248304)\n"
     ]
    }
   ],
   "metadata": {}
  },
  {
   "cell_type": "code",
   "execution_count": null,
   "source": [],
   "outputs": [],
   "metadata": {}
  }
 ],
 "metadata": {
  "orig_nbformat": 4,
  "language_info": {
   "name": "python",
   "version": "3.8.10",
   "mimetype": "text/x-python",
   "codemirror_mode": {
    "name": "ipython",
    "version": 3
   },
   "pygments_lexer": "ipython3",
   "nbconvert_exporter": "python",
   "file_extension": ".py"
  },
  "kernelspec": {
   "name": "python3",
   "display_name": "Python 3.8.10 64-bit ('.venv': venv)"
  },
  "interpreter": {
   "hash": "3d14812a1ba852f9c5a4bd2a6724f9d949ab26fe905f7e4c2764186ec1e01c2d"
  }
 },
 "nbformat": 4,
 "nbformat_minor": 2
}